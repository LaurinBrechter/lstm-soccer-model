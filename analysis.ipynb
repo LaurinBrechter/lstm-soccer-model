{
 "cells": [
  {
   "cell_type": "code",
   "execution_count": 1,
   "metadata": {},
   "outputs": [],
   "source": [
    "import torch\n",
    "import pandas as pd\n",
    "import os\n",
    "import sqlite3\n",
    "import matplotlib.pyplot as plt\n",
    "import torch.nn as nn\n",
    "import torch.nn.functional as F\n",
    "import torch.optim as optim\n",
    "from sklearn.preprocessing import OneHotEncoder"
   ]
  },
  {
   "cell_type": "code",
   "execution_count": null,
   "metadata": {},
   "outputs": [],
   "source": [
    "# frame_id: 0\n",
    "# event_subtype_id: 0\n",
    "# frame_start:0\n",
    "# frame_end: 0\n",
    "# player_id: 0\n",
    "# x_start: 0\n",
    "# y_start: 0\n",
    "# x_end: 0\n",
    "# y_end: 0\n",
    "# // team_id: 0\n",
    "# player_in_possession_id: 0\n",
    "# player_possession_frame_start: 0\n",
    "# player_in_possession_x_start: 0\n",
    "# player_in_possession_y_start: 0\n",
    "# player_in_possession_x_end: 0\n",
    "# player_in_possession_y_end: 0"
   ]
  },
  {
   "cell_type": "code",
   "execution_count": 2,
   "metadata": {},
   "outputs": [],
   "source": [
    "MATCH_ID = \"978805\"\n",
    "EVENT_DATA_DIR = \"myairbridge-6YJaD9uGRDr/machine learning data/events\"\n",
    "MATCH_ID_LIST = [ i.split(\"_\")[0] for i in os.listdir(EVENT_DATA_DIR) ]\n",
    "TRACKING_DATA_DIR = \"myairbridge-6YJaD9uGRDr/machine learning data/tracking\"\n",
    "N_EPOCHS = 10"
   ]
  },
  {
   "cell_type": "code",
   "execution_count": 16,
   "metadata": {},
   "outputs": [],
   "source": [
    "def load_events(m_id:str) -> pd.DataFrame:\n",
    "    events_raw = pd.read_csv(os.path.join(EVENT_DATA_DIR, f\"{m_id}_events.csv\"), index_col=0,)\n",
    "    events = events_raw[[\"frame_start\", \"frame_end\", \"event_subtype\", \"player_id\"]]\n",
    "\n",
    "    return events"
   ]
  },
  {
   "cell_type": "code",
   "execution_count": 12,
   "metadata": {},
   "outputs": [],
   "source": [
    "def load_tracking(m_id:str) -> pd.DataFrame:\n",
    "    tracking_raw = pd.read_csv(os.path.join(TRACKING_DATA_DIR, f\"{m_id}_tracking.csv\"))\n",
    "    tracking = tracking_raw.drop(columns=[\"match_id\", \"half\", \"timestamp\"])\n",
    "    tracking_ball = tracking.drop(columns=[\"extrapolated\"])\n",
    "    return tracking_ball"
   ]
  },
  {
   "cell_type": "code",
   "execution_count": 20,
   "metadata": {},
   "outputs": [],
   "source": [
    "events = load_events(MATCH_ID)\n",
    "tracking_data = load_tracking(MATCH_ID)"
   ]
  },
  {
   "cell_type": "code",
   "execution_count": 25,
   "metadata": {},
   "outputs": [
    {
     "data": {
      "text/html": [
       "<div>\n",
       "<style scoped>\n",
       "    .dataframe tbody tr th:only-of-type {\n",
       "        vertical-align: middle;\n",
       "    }\n",
       "\n",
       "    .dataframe tbody tr th {\n",
       "        vertical-align: top;\n",
       "    }\n",
       "\n",
       "    .dataframe thead th {\n",
       "        text-align: right;\n",
       "    }\n",
       "</style>\n",
       "<table border=\"1\" class=\"dataframe\">\n",
       "  <thead>\n",
       "    <tr style=\"text-align: right;\">\n",
       "      <th></th>\n",
       "      <th>frame_start</th>\n",
       "      <th>frame_end</th>\n",
       "      <th>event_subtype</th>\n",
       "      <th>player_id</th>\n",
       "    </tr>\n",
       "    <tr>\n",
       "      <th>index</th>\n",
       "      <th></th>\n",
       "      <th></th>\n",
       "      <th></th>\n",
       "      <th></th>\n",
       "    </tr>\n",
       "  </thead>\n",
       "  <tbody>\n",
       "    <tr>\n",
       "      <th>0</th>\n",
       "      <td>320</td>\n",
       "      <td>350</td>\n",
       "      <td>pulling_wide</td>\n",
       "      <td>7322</td>\n",
       "    </tr>\n",
       "    <tr>\n",
       "      <th>1</th>\n",
       "      <td>356</td>\n",
       "      <td>370</td>\n",
       "      <td>pulling_half_space</td>\n",
       "      <td>617441</td>\n",
       "    </tr>\n",
       "    <tr>\n",
       "      <th>2</th>\n",
       "      <td>360</td>\n",
       "      <td>377</td>\n",
       "      <td>behind</td>\n",
       "      <td>179287</td>\n",
       "    </tr>\n",
       "    <tr>\n",
       "      <th>3</th>\n",
       "      <td>440</td>\n",
       "      <td>451</td>\n",
       "      <td>run_ahead_of_the_ball</td>\n",
       "      <td>26200</td>\n",
       "    </tr>\n",
       "    <tr>\n",
       "      <th>4</th>\n",
       "      <td>446</td>\n",
       "      <td>466</td>\n",
       "      <td>run_ahead_of_the_ball</td>\n",
       "      <td>30561</td>\n",
       "    </tr>\n",
       "    <tr>\n",
       "      <th>...</th>\n",
       "      <td>...</td>\n",
       "      <td>...</td>\n",
       "      <td>...</td>\n",
       "      <td>...</td>\n",
       "    </tr>\n",
       "    <tr>\n",
       "      <th>419</th>\n",
       "      <td>56497</td>\n",
       "      <td>56567</td>\n",
       "      <td>cross_receiver</td>\n",
       "      <td>530099</td>\n",
       "    </tr>\n",
       "    <tr>\n",
       "      <th>420</th>\n",
       "      <td>56501</td>\n",
       "      <td>56567</td>\n",
       "      <td>support</td>\n",
       "      <td>33844</td>\n",
       "    </tr>\n",
       "    <tr>\n",
       "      <th>421</th>\n",
       "      <td>57445</td>\n",
       "      <td>57460</td>\n",
       "      <td>support</td>\n",
       "      <td>6343</td>\n",
       "    </tr>\n",
       "    <tr>\n",
       "      <th>422</th>\n",
       "      <td>57510</td>\n",
       "      <td>57520</td>\n",
       "      <td>run_ahead_of_the_ball</td>\n",
       "      <td>530099</td>\n",
       "    </tr>\n",
       "    <tr>\n",
       "      <th>423</th>\n",
       "      <td>57603</td>\n",
       "      <td>57619</td>\n",
       "      <td>behind</td>\n",
       "      <td>9253</td>\n",
       "    </tr>\n",
       "  </tbody>\n",
       "</table>\n",
       "<p>424 rows × 4 columns</p>\n",
       "</div>"
      ],
      "text/plain": [
       "       frame_start  frame_end          event_subtype  player_id\n",
       "index                                                          \n",
       "0              320        350           pulling_wide       7322\n",
       "1              356        370     pulling_half_space     617441\n",
       "2              360        377                 behind     179287\n",
       "3              440        451  run_ahead_of_the_ball      26200\n",
       "4              446        466  run_ahead_of_the_ball      30561\n",
       "...            ...        ...                    ...        ...\n",
       "419          56497      56567         cross_receiver     530099\n",
       "420          56501      56567                support      33844\n",
       "421          57445      57460                support       6343\n",
       "422          57510      57520  run_ahead_of_the_ball     530099\n",
       "423          57603      57619                 behind       9253\n",
       "\n",
       "[424 rows x 4 columns]"
      ]
     },
     "execution_count": 25,
     "metadata": {},
     "output_type": "execute_result"
    }
   ],
   "source": [
    "events"
   ]
  },
  {
   "cell_type": "code",
   "execution_count": null,
   "metadata": {},
   "outputs": [],
   "source": [
    "tracking_data"
   ]
  },
  {
   "cell_type": "code",
   "execution_count": 31,
   "metadata": {},
   "outputs": [
    {
     "name": "stdout",
     "output_type": "stream",
     "text": [
      "25\n"
     ]
    }
   ],
   "source": [
    "def preprocess(events:pd.DataFrame, tracking:pd.DataFrame, obj_id:int=0) -> pd.DataFrame:\n",
    "    conn = sqlite3.connect(':memory:')\n",
    "    #write the tables\n",
    "    e = events.loc[events.player_id == obj_id]\n",
    "    e.to_sql('e', conn, index=False)\n",
    "    t  = tracking.loc[tracking.object_id == obj_id]\n",
    "    t.to_sql('t', conn, index=False)\n",
    "\n",
    "    print(len(e))\n",
    "\n",
    "    qry = '''\n",
    "        select \n",
    "            *\n",
    "            -- x,y,z, frame_id, event_subtype\n",
    "        from\n",
    "            e right join t on\n",
    "            t.frame_id between frame_start and frame_end\n",
    "        '''\n",
    "    \n",
    "    df = pd.read_sql_query(qry, conn)\n",
    "\n",
    "    return df\n",
    "df = preprocess(events, tracking_data, 7322)"
   ]
  },
  {
   "cell_type": "code",
   "execution_count": null,
   "metadata": {},
   "outputs": [],
   "source": [
    "df"
   ]
  },
  {
   "cell_type": "code",
   "execution_count": null,
   "metadata": {},
   "outputs": [],
   "source": [
    "df.sort_values(by=\"frame_id\")"
   ]
  },
  {
   "cell_type": "code",
   "execution_count": 74,
   "metadata": {},
   "outputs": [
    {
     "data": {
      "text/html": [
       "<div>\n",
       "<style scoped>\n",
       "    .dataframe tbody tr th:only-of-type {\n",
       "        vertical-align: middle;\n",
       "    }\n",
       "\n",
       "    .dataframe tbody tr th {\n",
       "        vertical-align: top;\n",
       "    }\n",
       "\n",
       "    .dataframe thead th {\n",
       "        text-align: right;\n",
       "    }\n",
       "</style>\n",
       "<table border=\"1\" class=\"dataframe\">\n",
       "  <thead>\n",
       "    <tr style=\"text-align: right;\">\n",
       "      <th></th>\n",
       "      <th>frame_start</th>\n",
       "      <th>frame_end</th>\n",
       "      <th>event_subtype</th>\n",
       "      <th>player_id</th>\n",
       "    </tr>\n",
       "    <tr>\n",
       "      <th>index</th>\n",
       "      <th></th>\n",
       "      <th></th>\n",
       "      <th></th>\n",
       "      <th></th>\n",
       "    </tr>\n",
       "  </thead>\n",
       "  <tbody>\n",
       "    <tr>\n",
       "      <th>0</th>\n",
       "      <td>320</td>\n",
       "      <td>350</td>\n",
       "      <td>pulling_wide</td>\n",
       "      <td>7322</td>\n",
       "    </tr>\n",
       "    <tr>\n",
       "      <th>28</th>\n",
       "      <td>3390</td>\n",
       "      <td>3434</td>\n",
       "      <td>cross_receiver</td>\n",
       "      <td>7322</td>\n",
       "    </tr>\n",
       "    <tr>\n",
       "      <th>37</th>\n",
       "      <td>5792</td>\n",
       "      <td>5812</td>\n",
       "      <td>support</td>\n",
       "      <td>7322</td>\n",
       "    </tr>\n",
       "    <tr>\n",
       "      <th>60</th>\n",
       "      <td>8356</td>\n",
       "      <td>8368</td>\n",
       "      <td>support</td>\n",
       "      <td>7322</td>\n",
       "    </tr>\n",
       "    <tr>\n",
       "      <th>71</th>\n",
       "      <td>9495</td>\n",
       "      <td>9505</td>\n",
       "      <td>run_ahead_of_the_ball</td>\n",
       "      <td>7322</td>\n",
       "    </tr>\n",
       "    <tr>\n",
       "      <th>88</th>\n",
       "      <td>12693</td>\n",
       "      <td>12729</td>\n",
       "      <td>run_ahead_of_the_ball</td>\n",
       "      <td>7322</td>\n",
       "    </tr>\n",
       "    <tr>\n",
       "      <th>96</th>\n",
       "      <td>14099</td>\n",
       "      <td>14117</td>\n",
       "      <td>support</td>\n",
       "      <td>7322</td>\n",
       "    </tr>\n",
       "    <tr>\n",
       "      <th>104</th>\n",
       "      <td>14800</td>\n",
       "      <td>14841</td>\n",
       "      <td>run_ahead_of_the_ball</td>\n",
       "      <td>7322</td>\n",
       "    </tr>\n",
       "    <tr>\n",
       "      <th>107</th>\n",
       "      <td>15638</td>\n",
       "      <td>15645</td>\n",
       "      <td>pulling_wide</td>\n",
       "      <td>7322</td>\n",
       "    </tr>\n",
       "    <tr>\n",
       "      <th>117</th>\n",
       "      <td>16715</td>\n",
       "      <td>16735</td>\n",
       "      <td>run_ahead_of_the_ball</td>\n",
       "      <td>7322</td>\n",
       "    </tr>\n",
       "    <tr>\n",
       "      <th>118</th>\n",
       "      <td>16786</td>\n",
       "      <td>16796</td>\n",
       "      <td>pulling_wide</td>\n",
       "      <td>7322</td>\n",
       "    </tr>\n",
       "    <tr>\n",
       "      <th>119</th>\n",
       "      <td>16840</td>\n",
       "      <td>16853</td>\n",
       "      <td>run_ahead_of_the_ball</td>\n",
       "      <td>7322</td>\n",
       "    </tr>\n",
       "    <tr>\n",
       "      <th>132</th>\n",
       "      <td>18281</td>\n",
       "      <td>18291</td>\n",
       "      <td>run_ahead_of_the_ball</td>\n",
       "      <td>7322</td>\n",
       "    </tr>\n",
       "    <tr>\n",
       "      <th>153</th>\n",
       "      <td>20415</td>\n",
       "      <td>20448</td>\n",
       "      <td>pulling_half_space</td>\n",
       "      <td>7322</td>\n",
       "    </tr>\n",
       "    <tr>\n",
       "      <th>175</th>\n",
       "      <td>21784</td>\n",
       "      <td>21862</td>\n",
       "      <td>overlap</td>\n",
       "      <td>7322</td>\n",
       "    </tr>\n",
       "    <tr>\n",
       "      <th>179</th>\n",
       "      <td>22300</td>\n",
       "      <td>22319</td>\n",
       "      <td>run_ahead_of_the_ball</td>\n",
       "      <td>7322</td>\n",
       "    </tr>\n",
       "    <tr>\n",
       "      <th>189</th>\n",
       "      <td>25377</td>\n",
       "      <td>25411</td>\n",
       "      <td>run_ahead_of_the_ball</td>\n",
       "      <td>7322</td>\n",
       "    </tr>\n",
       "    <tr>\n",
       "      <th>227</th>\n",
       "      <td>30792</td>\n",
       "      <td>30824</td>\n",
       "      <td>run_ahead_of_the_ball</td>\n",
       "      <td>7322</td>\n",
       "    </tr>\n",
       "    <tr>\n",
       "      <th>250</th>\n",
       "      <td>33697</td>\n",
       "      <td>33711</td>\n",
       "      <td>run_ahead_of_the_ball</td>\n",
       "      <td>7322</td>\n",
       "    </tr>\n",
       "    <tr>\n",
       "      <th>268</th>\n",
       "      <td>36113</td>\n",
       "      <td>36137</td>\n",
       "      <td>pulling_half_space</td>\n",
       "      <td>7322</td>\n",
       "    </tr>\n",
       "    <tr>\n",
       "      <th>269</th>\n",
       "      <td>36146</td>\n",
       "      <td>36169</td>\n",
       "      <td>coming_short</td>\n",
       "      <td>7322</td>\n",
       "    </tr>\n",
       "    <tr>\n",
       "      <th>271</th>\n",
       "      <td>36447</td>\n",
       "      <td>36473</td>\n",
       "      <td>support</td>\n",
       "      <td>7322</td>\n",
       "    </tr>\n",
       "    <tr>\n",
       "      <th>273</th>\n",
       "      <td>37415</td>\n",
       "      <td>37437</td>\n",
       "      <td>coming_short</td>\n",
       "      <td>7322</td>\n",
       "    </tr>\n",
       "    <tr>\n",
       "      <th>279</th>\n",
       "      <td>37758</td>\n",
       "      <td>37769</td>\n",
       "      <td>support</td>\n",
       "      <td>7322</td>\n",
       "    </tr>\n",
       "    <tr>\n",
       "      <th>293</th>\n",
       "      <td>39388</td>\n",
       "      <td>39399</td>\n",
       "      <td>support</td>\n",
       "      <td>7322</td>\n",
       "    </tr>\n",
       "  </tbody>\n",
       "</table>\n",
       "</div>"
      ],
      "text/plain": [
       "       frame_start  frame_end          event_subtype  player_id\n",
       "index                                                          \n",
       "0              320        350           pulling_wide       7322\n",
       "28            3390       3434         cross_receiver       7322\n",
       "37            5792       5812                support       7322\n",
       "60            8356       8368                support       7322\n",
       "71            9495       9505  run_ahead_of_the_ball       7322\n",
       "88           12693      12729  run_ahead_of_the_ball       7322\n",
       "96           14099      14117                support       7322\n",
       "104          14800      14841  run_ahead_of_the_ball       7322\n",
       "107          15638      15645           pulling_wide       7322\n",
       "117          16715      16735  run_ahead_of_the_ball       7322\n",
       "118          16786      16796           pulling_wide       7322\n",
       "119          16840      16853  run_ahead_of_the_ball       7322\n",
       "132          18281      18291  run_ahead_of_the_ball       7322\n",
       "153          20415      20448     pulling_half_space       7322\n",
       "175          21784      21862                overlap       7322\n",
       "179          22300      22319  run_ahead_of_the_ball       7322\n",
       "189          25377      25411  run_ahead_of_the_ball       7322\n",
       "227          30792      30824  run_ahead_of_the_ball       7322\n",
       "250          33697      33711  run_ahead_of_the_ball       7322\n",
       "268          36113      36137     pulling_half_space       7322\n",
       "269          36146      36169           coming_short       7322\n",
       "271          36447      36473                support       7322\n",
       "273          37415      37437           coming_short       7322\n",
       "279          37758      37769                support       7322\n",
       "293          39388      39399                support       7322"
      ]
     },
     "execution_count": 74,
     "metadata": {},
     "output_type": "execute_result"
    }
   ],
   "source": [
    "events.loc[events.player_id == 7322]"
   ]
  },
  {
   "cell_type": "code",
   "execution_count": 69,
   "metadata": {},
   "outputs": [
    {
     "data": {
      "text/html": [
       "<div>\n",
       "<style scoped>\n",
       "    .dataframe tbody tr th:only-of-type {\n",
       "        vertical-align: middle;\n",
       "    }\n",
       "\n",
       "    .dataframe tbody tr th {\n",
       "        vertical-align: top;\n",
       "    }\n",
       "\n",
       "    .dataframe thead th {\n",
       "        text-align: right;\n",
       "    }\n",
       "</style>\n",
       "<table border=\"1\" class=\"dataframe\">\n",
       "  <thead>\n",
       "    <tr style=\"text-align: right;\">\n",
       "      <th></th>\n",
       "      <th>frame_start</th>\n",
       "      <th>frame_end</th>\n",
       "      <th>event_subtype</th>\n",
       "      <th>player_id</th>\n",
       "      <th>frame_id</th>\n",
       "      <th>object_id</th>\n",
       "      <th>x</th>\n",
       "      <th>y</th>\n",
       "      <th>z</th>\n",
       "    </tr>\n",
       "  </thead>\n",
       "  <tbody>\n",
       "    <tr>\n",
       "      <th>720</th>\n",
       "      <td>NaN</td>\n",
       "      <td>NaN</td>\n",
       "      <td>None</td>\n",
       "      <td>NaN</td>\n",
       "      <td>250</td>\n",
       "      <td>7322</td>\n",
       "      <td>3.27</td>\n",
       "      <td>-11.56</td>\n",
       "      <td>0.0</td>\n",
       "    </tr>\n",
       "    <tr>\n",
       "      <th>721</th>\n",
       "      <td>NaN</td>\n",
       "      <td>NaN</td>\n",
       "      <td>None</td>\n",
       "      <td>NaN</td>\n",
       "      <td>251</td>\n",
       "      <td>7322</td>\n",
       "      <td>3.20</td>\n",
       "      <td>-11.44</td>\n",
       "      <td>0.0</td>\n",
       "    </tr>\n",
       "    <tr>\n",
       "      <th>722</th>\n",
       "      <td>NaN</td>\n",
       "      <td>NaN</td>\n",
       "      <td>None</td>\n",
       "      <td>NaN</td>\n",
       "      <td>252</td>\n",
       "      <td>7322</td>\n",
       "      <td>3.12</td>\n",
       "      <td>-11.32</td>\n",
       "      <td>0.0</td>\n",
       "    </tr>\n",
       "    <tr>\n",
       "      <th>723</th>\n",
       "      <td>NaN</td>\n",
       "      <td>NaN</td>\n",
       "      <td>None</td>\n",
       "      <td>NaN</td>\n",
       "      <td>253</td>\n",
       "      <td>7322</td>\n",
       "      <td>3.03</td>\n",
       "      <td>-11.20</td>\n",
       "      <td>0.0</td>\n",
       "    </tr>\n",
       "    <tr>\n",
       "      <th>724</th>\n",
       "      <td>NaN</td>\n",
       "      <td>NaN</td>\n",
       "      <td>None</td>\n",
       "      <td>NaN</td>\n",
       "      <td>254</td>\n",
       "      <td>7322</td>\n",
       "      <td>2.93</td>\n",
       "      <td>-11.08</td>\n",
       "      <td>0.0</td>\n",
       "    </tr>\n",
       "    <tr>\n",
       "      <th>...</th>\n",
       "      <td>...</td>\n",
       "      <td>...</td>\n",
       "      <td>...</td>\n",
       "      <td>...</td>\n",
       "      <td>...</td>\n",
       "      <td>...</td>\n",
       "      <td>...</td>\n",
       "      <td>...</td>\n",
       "      <td>...</td>\n",
       "    </tr>\n",
       "    <tr>\n",
       "      <th>935</th>\n",
       "      <td>NaN</td>\n",
       "      <td>NaN</td>\n",
       "      <td>None</td>\n",
       "      <td>NaN</td>\n",
       "      <td>496</td>\n",
       "      <td>7322</td>\n",
       "      <td>-1.05</td>\n",
       "      <td>-22.74</td>\n",
       "      <td>0.0</td>\n",
       "    </tr>\n",
       "    <tr>\n",
       "      <th>936</th>\n",
       "      <td>NaN</td>\n",
       "      <td>NaN</td>\n",
       "      <td>None</td>\n",
       "      <td>NaN</td>\n",
       "      <td>497</td>\n",
       "      <td>7322</td>\n",
       "      <td>-0.62</td>\n",
       "      <td>-22.51</td>\n",
       "      <td>0.0</td>\n",
       "    </tr>\n",
       "    <tr>\n",
       "      <th>937</th>\n",
       "      <td>NaN</td>\n",
       "      <td>NaN</td>\n",
       "      <td>None</td>\n",
       "      <td>NaN</td>\n",
       "      <td>498</td>\n",
       "      <td>7322</td>\n",
       "      <td>-0.17</td>\n",
       "      <td>-22.27</td>\n",
       "      <td>0.0</td>\n",
       "    </tr>\n",
       "    <tr>\n",
       "      <th>938</th>\n",
       "      <td>NaN</td>\n",
       "      <td>NaN</td>\n",
       "      <td>None</td>\n",
       "      <td>NaN</td>\n",
       "      <td>499</td>\n",
       "      <td>7322</td>\n",
       "      <td>0.30</td>\n",
       "      <td>-22.02</td>\n",
       "      <td>0.0</td>\n",
       "    </tr>\n",
       "    <tr>\n",
       "      <th>939</th>\n",
       "      <td>NaN</td>\n",
       "      <td>NaN</td>\n",
       "      <td>None</td>\n",
       "      <td>NaN</td>\n",
       "      <td>500</td>\n",
       "      <td>7322</td>\n",
       "      <td>0.77</td>\n",
       "      <td>-21.77</td>\n",
       "      <td>0.0</td>\n",
       "    </tr>\n",
       "  </tbody>\n",
       "</table>\n",
       "<p>251 rows × 9 columns</p>\n",
       "</div>"
      ],
      "text/plain": [
       "     frame_start  frame_end event_subtype  player_id  frame_id  object_id  \\\n",
       "720          NaN        NaN          None        NaN       250       7322   \n",
       "721          NaN        NaN          None        NaN       251       7322   \n",
       "722          NaN        NaN          None        NaN       252       7322   \n",
       "723          NaN        NaN          None        NaN       253       7322   \n",
       "724          NaN        NaN          None        NaN       254       7322   \n",
       "..           ...        ...           ...        ...       ...        ...   \n",
       "935          NaN        NaN          None        NaN       496       7322   \n",
       "936          NaN        NaN          None        NaN       497       7322   \n",
       "937          NaN        NaN          None        NaN       498       7322   \n",
       "938          NaN        NaN          None        NaN       499       7322   \n",
       "939          NaN        NaN          None        NaN       500       7322   \n",
       "\n",
       "        x      y    z  \n",
       "720  3.27 -11.56  0.0  \n",
       "721  3.20 -11.44  0.0  \n",
       "722  3.12 -11.32  0.0  \n",
       "723  3.03 -11.20  0.0  \n",
       "724  2.93 -11.08  0.0  \n",
       "..    ...    ...  ...  \n",
       "935 -1.05 -22.74  0.0  \n",
       "936 -0.62 -22.51  0.0  \n",
       "937 -0.17 -22.27  0.0  \n",
       "938  0.30 -22.02  0.0  \n",
       "939  0.77 -21.77  0.0  \n",
       "\n",
       "[251 rows x 9 columns]"
      ]
     },
     "execution_count": 69,
     "metadata": {},
     "output_type": "execute_result"
    }
   ],
   "source": [
    "df.sort_values(by=\"frame_id\").loc[df.frame_id.between(250, 500)]"
   ]
  },
  {
   "cell_type": "code",
   "execution_count": 77,
   "metadata": {},
   "outputs": [
    {
     "data": {
      "application/vnd.plotly.v1+json": {
       "config": {
        "plotlyServerURL": "https://plot.ly"
       },
       "data": [
        {
         "hovertemplate": "x=%{x}<br>y=%{y}<br>frame_id=%{z}<extra></extra>",
         "legendgroup": "",
         "marker": {
          "color": "#636efa",
          "symbol": "circle"
         },
         "mode": "markers",
         "name": "",
         "scene": "scene",
         "showlegend": false,
         "type": "scatter3d",
         "x": [
          -17.28,
          -17.44,
          -17.61,
          -17.8,
          -17.99,
          -18.2,
          -18.45,
          -18.72,
          -19.01,
          -19.32,
          -19.67,
          -20.04,
          -20.43,
          -20.84,
          -21.27,
          -21.69,
          -22.1,
          -22.52,
          -22.93,
          -23.35,
          -23.77,
          -24.19,
          -24.61,
          -25.04,
          -25.47,
          -25.92,
          -26.36,
          -26.82,
          -27.29,
          -27.75,
          -28.23,
          -28.72,
          -29.23,
          -29.75,
          -30.29,
          -30.83,
          -31.38,
          -31.92,
          -32.45,
          -32.99,
          -33.51,
          -34.03,
          -34.54,
          -35.03,
          -35.52,
          -35.99,
          -36.46,
          -36.93,
          -37.38,
          -37.82,
          -38.25,
          -38.68,
          -39.11,
          -39.54,
          -39.97,
          -40.4,
          -40.83,
          -41.26,
          -41.69,
          -42.11,
          -42.52,
          -42.93,
          -43.32,
          -43.71,
          -44.09,
          -44.45,
          -44.81,
          -45.16,
          -45.5,
          -45.83,
          -46.15,
          -46.47,
          -46.77,
          -47.06,
          -47.33,
          -47.6,
          -47.84,
          -48.07,
          -48.28,
          -48.47,
          -48.65
         ],
         "y": [
          -12.04,
          -12.28,
          -12.5,
          -12.68,
          -12.84,
          -12.97,
          -13.08,
          -13.17,
          -13.25,
          -13.34,
          -13.42,
          -13.52,
          -13.64,
          -13.76,
          -13.9,
          -14.03,
          -14.17,
          -14.3,
          -14.44,
          -14.56,
          -14.69,
          -14.82,
          -14.94,
          -15.08,
          -15.21,
          -15.34,
          -15.48,
          -15.62,
          -15.76,
          -15.9,
          -16.04,
          -16.18,
          -16.32,
          -16.47,
          -16.62,
          -16.75,
          -16.88,
          -17,
          -17.1,
          -17.2,
          -17.29,
          -17.37,
          -17.46,
          -17.54,
          -17.63,
          -17.72,
          -17.81,
          -17.9,
          -17.97,
          -18.03,
          -18.06,
          -18.07,
          -18.06,
          -18.03,
          -17.99,
          -17.93,
          -17.87,
          -17.8,
          -17.73,
          -17.66,
          -17.59,
          -17.53,
          -17.48,
          -17.44,
          -17.41,
          -17.39,
          -17.39,
          -17.39,
          -17.41,
          -17.44,
          -17.49,
          -17.54,
          -17.61,
          -17.69,
          -17.78,
          -17.87,
          -17.97,
          -18.07,
          -18.17,
          -18.26,
          -18.35
         ],
         "z": [
          9460,
          9461,
          9462,
          9463,
          9464,
          9465,
          9466,
          9467,
          9468,
          9469,
          9470,
          9471,
          9472,
          9473,
          9474,
          9475,
          9476,
          9477,
          9478,
          9479,
          9480,
          9481,
          9482,
          9483,
          9484,
          9485,
          9486,
          9487,
          9488,
          9489,
          9490,
          9491,
          9492,
          9493,
          9494,
          9495,
          9496,
          9497,
          9498,
          9499,
          9500,
          9501,
          9502,
          9503,
          9504,
          9505,
          9506,
          9507,
          9508,
          9509,
          9510,
          9511,
          9512,
          9513,
          9514,
          9515,
          9516,
          9517,
          9518,
          9519,
          9520,
          9521,
          9522,
          9523,
          9524,
          9525,
          9526,
          9527,
          9528,
          9529,
          9530,
          9531,
          9532,
          9533,
          9534,
          9535,
          9536,
          9537,
          9538,
          9539,
          9540
         ]
        }
       ],
       "layout": {
        "legend": {
         "tracegroupgap": 0
        },
        "margin": {
         "t": 60
        },
        "scene": {
         "domain": {
          "x": [
           0,
           1
          ],
          "y": [
           0,
           1
          ]
         },
         "xaxis": {
          "title": {
           "text": "x"
          }
         },
         "yaxis": {
          "title": {
           "text": "y"
          }
         },
         "zaxis": {
          "title": {
           "text": "frame_id"
          }
         }
        },
        "template": {
         "data": {
          "bar": [
           {
            "error_x": {
             "color": "#2a3f5f"
            },
            "error_y": {
             "color": "#2a3f5f"
            },
            "marker": {
             "line": {
              "color": "#E5ECF6",
              "width": 0.5
             },
             "pattern": {
              "fillmode": "overlay",
              "size": 10,
              "solidity": 0.2
             }
            },
            "type": "bar"
           }
          ],
          "barpolar": [
           {
            "marker": {
             "line": {
              "color": "#E5ECF6",
              "width": 0.5
             },
             "pattern": {
              "fillmode": "overlay",
              "size": 10,
              "solidity": 0.2
             }
            },
            "type": "barpolar"
           }
          ],
          "carpet": [
           {
            "aaxis": {
             "endlinecolor": "#2a3f5f",
             "gridcolor": "white",
             "linecolor": "white",
             "minorgridcolor": "white",
             "startlinecolor": "#2a3f5f"
            },
            "baxis": {
             "endlinecolor": "#2a3f5f",
             "gridcolor": "white",
             "linecolor": "white",
             "minorgridcolor": "white",
             "startlinecolor": "#2a3f5f"
            },
            "type": "carpet"
           }
          ],
          "choropleth": [
           {
            "colorbar": {
             "outlinewidth": 0,
             "ticks": ""
            },
            "type": "choropleth"
           }
          ],
          "contour": [
           {
            "colorbar": {
             "outlinewidth": 0,
             "ticks": ""
            },
            "colorscale": [
             [
              0,
              "#0d0887"
             ],
             [
              0.1111111111111111,
              "#46039f"
             ],
             [
              0.2222222222222222,
              "#7201a8"
             ],
             [
              0.3333333333333333,
              "#9c179e"
             ],
             [
              0.4444444444444444,
              "#bd3786"
             ],
             [
              0.5555555555555556,
              "#d8576b"
             ],
             [
              0.6666666666666666,
              "#ed7953"
             ],
             [
              0.7777777777777778,
              "#fb9f3a"
             ],
             [
              0.8888888888888888,
              "#fdca26"
             ],
             [
              1,
              "#f0f921"
             ]
            ],
            "type": "contour"
           }
          ],
          "contourcarpet": [
           {
            "colorbar": {
             "outlinewidth": 0,
             "ticks": ""
            },
            "type": "contourcarpet"
           }
          ],
          "heatmap": [
           {
            "colorbar": {
             "outlinewidth": 0,
             "ticks": ""
            },
            "colorscale": [
             [
              0,
              "#0d0887"
             ],
             [
              0.1111111111111111,
              "#46039f"
             ],
             [
              0.2222222222222222,
              "#7201a8"
             ],
             [
              0.3333333333333333,
              "#9c179e"
             ],
             [
              0.4444444444444444,
              "#bd3786"
             ],
             [
              0.5555555555555556,
              "#d8576b"
             ],
             [
              0.6666666666666666,
              "#ed7953"
             ],
             [
              0.7777777777777778,
              "#fb9f3a"
             ],
             [
              0.8888888888888888,
              "#fdca26"
             ],
             [
              1,
              "#f0f921"
             ]
            ],
            "type": "heatmap"
           }
          ],
          "heatmapgl": [
           {
            "colorbar": {
             "outlinewidth": 0,
             "ticks": ""
            },
            "colorscale": [
             [
              0,
              "#0d0887"
             ],
             [
              0.1111111111111111,
              "#46039f"
             ],
             [
              0.2222222222222222,
              "#7201a8"
             ],
             [
              0.3333333333333333,
              "#9c179e"
             ],
             [
              0.4444444444444444,
              "#bd3786"
             ],
             [
              0.5555555555555556,
              "#d8576b"
             ],
             [
              0.6666666666666666,
              "#ed7953"
             ],
             [
              0.7777777777777778,
              "#fb9f3a"
             ],
             [
              0.8888888888888888,
              "#fdca26"
             ],
             [
              1,
              "#f0f921"
             ]
            ],
            "type": "heatmapgl"
           }
          ],
          "histogram": [
           {
            "marker": {
             "pattern": {
              "fillmode": "overlay",
              "size": 10,
              "solidity": 0.2
             }
            },
            "type": "histogram"
           }
          ],
          "histogram2d": [
           {
            "colorbar": {
             "outlinewidth": 0,
             "ticks": ""
            },
            "colorscale": [
             [
              0,
              "#0d0887"
             ],
             [
              0.1111111111111111,
              "#46039f"
             ],
             [
              0.2222222222222222,
              "#7201a8"
             ],
             [
              0.3333333333333333,
              "#9c179e"
             ],
             [
              0.4444444444444444,
              "#bd3786"
             ],
             [
              0.5555555555555556,
              "#d8576b"
             ],
             [
              0.6666666666666666,
              "#ed7953"
             ],
             [
              0.7777777777777778,
              "#fb9f3a"
             ],
             [
              0.8888888888888888,
              "#fdca26"
             ],
             [
              1,
              "#f0f921"
             ]
            ],
            "type": "histogram2d"
           }
          ],
          "histogram2dcontour": [
           {
            "colorbar": {
             "outlinewidth": 0,
             "ticks": ""
            },
            "colorscale": [
             [
              0,
              "#0d0887"
             ],
             [
              0.1111111111111111,
              "#46039f"
             ],
             [
              0.2222222222222222,
              "#7201a8"
             ],
             [
              0.3333333333333333,
              "#9c179e"
             ],
             [
              0.4444444444444444,
              "#bd3786"
             ],
             [
              0.5555555555555556,
              "#d8576b"
             ],
             [
              0.6666666666666666,
              "#ed7953"
             ],
             [
              0.7777777777777778,
              "#fb9f3a"
             ],
             [
              0.8888888888888888,
              "#fdca26"
             ],
             [
              1,
              "#f0f921"
             ]
            ],
            "type": "histogram2dcontour"
           }
          ],
          "mesh3d": [
           {
            "colorbar": {
             "outlinewidth": 0,
             "ticks": ""
            },
            "type": "mesh3d"
           }
          ],
          "parcoords": [
           {
            "line": {
             "colorbar": {
              "outlinewidth": 0,
              "ticks": ""
             }
            },
            "type": "parcoords"
           }
          ],
          "pie": [
           {
            "automargin": true,
            "type": "pie"
           }
          ],
          "scatter": [
           {
            "fillpattern": {
             "fillmode": "overlay",
             "size": 10,
             "solidity": 0.2
            },
            "type": "scatter"
           }
          ],
          "scatter3d": [
           {
            "line": {
             "colorbar": {
              "outlinewidth": 0,
              "ticks": ""
             }
            },
            "marker": {
             "colorbar": {
              "outlinewidth": 0,
              "ticks": ""
             }
            },
            "type": "scatter3d"
           }
          ],
          "scattercarpet": [
           {
            "marker": {
             "colorbar": {
              "outlinewidth": 0,
              "ticks": ""
             }
            },
            "type": "scattercarpet"
           }
          ],
          "scattergeo": [
           {
            "marker": {
             "colorbar": {
              "outlinewidth": 0,
              "ticks": ""
             }
            },
            "type": "scattergeo"
           }
          ],
          "scattergl": [
           {
            "marker": {
             "colorbar": {
              "outlinewidth": 0,
              "ticks": ""
             }
            },
            "type": "scattergl"
           }
          ],
          "scattermapbox": [
           {
            "marker": {
             "colorbar": {
              "outlinewidth": 0,
              "ticks": ""
             }
            },
            "type": "scattermapbox"
           }
          ],
          "scatterpolar": [
           {
            "marker": {
             "colorbar": {
              "outlinewidth": 0,
              "ticks": ""
             }
            },
            "type": "scatterpolar"
           }
          ],
          "scatterpolargl": [
           {
            "marker": {
             "colorbar": {
              "outlinewidth": 0,
              "ticks": ""
             }
            },
            "type": "scatterpolargl"
           }
          ],
          "scatterternary": [
           {
            "marker": {
             "colorbar": {
              "outlinewidth": 0,
              "ticks": ""
             }
            },
            "type": "scatterternary"
           }
          ],
          "surface": [
           {
            "colorbar": {
             "outlinewidth": 0,
             "ticks": ""
            },
            "colorscale": [
             [
              0,
              "#0d0887"
             ],
             [
              0.1111111111111111,
              "#46039f"
             ],
             [
              0.2222222222222222,
              "#7201a8"
             ],
             [
              0.3333333333333333,
              "#9c179e"
             ],
             [
              0.4444444444444444,
              "#bd3786"
             ],
             [
              0.5555555555555556,
              "#d8576b"
             ],
             [
              0.6666666666666666,
              "#ed7953"
             ],
             [
              0.7777777777777778,
              "#fb9f3a"
             ],
             [
              0.8888888888888888,
              "#fdca26"
             ],
             [
              1,
              "#f0f921"
             ]
            ],
            "type": "surface"
           }
          ],
          "table": [
           {
            "cells": {
             "fill": {
              "color": "#EBF0F8"
             },
             "line": {
              "color": "white"
             }
            },
            "header": {
             "fill": {
              "color": "#C8D4E3"
             },
             "line": {
              "color": "white"
             }
            },
            "type": "table"
           }
          ]
         },
         "layout": {
          "annotationdefaults": {
           "arrowcolor": "#2a3f5f",
           "arrowhead": 0,
           "arrowwidth": 1
          },
          "autotypenumbers": "strict",
          "coloraxis": {
           "colorbar": {
            "outlinewidth": 0,
            "ticks": ""
           }
          },
          "colorscale": {
           "diverging": [
            [
             0,
             "#8e0152"
            ],
            [
             0.1,
             "#c51b7d"
            ],
            [
             0.2,
             "#de77ae"
            ],
            [
             0.3,
             "#f1b6da"
            ],
            [
             0.4,
             "#fde0ef"
            ],
            [
             0.5,
             "#f7f7f7"
            ],
            [
             0.6,
             "#e6f5d0"
            ],
            [
             0.7,
             "#b8e186"
            ],
            [
             0.8,
             "#7fbc41"
            ],
            [
             0.9,
             "#4d9221"
            ],
            [
             1,
             "#276419"
            ]
           ],
           "sequential": [
            [
             0,
             "#0d0887"
            ],
            [
             0.1111111111111111,
             "#46039f"
            ],
            [
             0.2222222222222222,
             "#7201a8"
            ],
            [
             0.3333333333333333,
             "#9c179e"
            ],
            [
             0.4444444444444444,
             "#bd3786"
            ],
            [
             0.5555555555555556,
             "#d8576b"
            ],
            [
             0.6666666666666666,
             "#ed7953"
            ],
            [
             0.7777777777777778,
             "#fb9f3a"
            ],
            [
             0.8888888888888888,
             "#fdca26"
            ],
            [
             1,
             "#f0f921"
            ]
           ],
           "sequentialminus": [
            [
             0,
             "#0d0887"
            ],
            [
             0.1111111111111111,
             "#46039f"
            ],
            [
             0.2222222222222222,
             "#7201a8"
            ],
            [
             0.3333333333333333,
             "#9c179e"
            ],
            [
             0.4444444444444444,
             "#bd3786"
            ],
            [
             0.5555555555555556,
             "#d8576b"
            ],
            [
             0.6666666666666666,
             "#ed7953"
            ],
            [
             0.7777777777777778,
             "#fb9f3a"
            ],
            [
             0.8888888888888888,
             "#fdca26"
            ],
            [
             1,
             "#f0f921"
            ]
           ]
          },
          "colorway": [
           "#636efa",
           "#EF553B",
           "#00cc96",
           "#ab63fa",
           "#FFA15A",
           "#19d3f3",
           "#FF6692",
           "#B6E880",
           "#FF97FF",
           "#FECB52"
          ],
          "font": {
           "color": "#2a3f5f"
          },
          "geo": {
           "bgcolor": "white",
           "lakecolor": "white",
           "landcolor": "#E5ECF6",
           "showlakes": true,
           "showland": true,
           "subunitcolor": "white"
          },
          "hoverlabel": {
           "align": "left"
          },
          "hovermode": "closest",
          "mapbox": {
           "style": "light"
          },
          "paper_bgcolor": "white",
          "plot_bgcolor": "#E5ECF6",
          "polar": {
           "angularaxis": {
            "gridcolor": "white",
            "linecolor": "white",
            "ticks": ""
           },
           "bgcolor": "#E5ECF6",
           "radialaxis": {
            "gridcolor": "white",
            "linecolor": "white",
            "ticks": ""
           }
          },
          "scene": {
           "xaxis": {
            "backgroundcolor": "#E5ECF6",
            "gridcolor": "white",
            "gridwidth": 2,
            "linecolor": "white",
            "showbackground": true,
            "ticks": "",
            "zerolinecolor": "white"
           },
           "yaxis": {
            "backgroundcolor": "#E5ECF6",
            "gridcolor": "white",
            "gridwidth": 2,
            "linecolor": "white",
            "showbackground": true,
            "ticks": "",
            "zerolinecolor": "white"
           },
           "zaxis": {
            "backgroundcolor": "#E5ECF6",
            "gridcolor": "white",
            "gridwidth": 2,
            "linecolor": "white",
            "showbackground": true,
            "ticks": "",
            "zerolinecolor": "white"
           }
          },
          "shapedefaults": {
           "line": {
            "color": "#2a3f5f"
           }
          },
          "ternary": {
           "aaxis": {
            "gridcolor": "white",
            "linecolor": "white",
            "ticks": ""
           },
           "baxis": {
            "gridcolor": "white",
            "linecolor": "white",
            "ticks": ""
           },
           "bgcolor": "#E5ECF6",
           "caxis": {
            "gridcolor": "white",
            "linecolor": "white",
            "ticks": ""
           }
          },
          "title": {
           "x": 0.05
          },
          "xaxis": {
           "automargin": true,
           "gridcolor": "white",
           "linecolor": "white",
           "ticks": "",
           "title": {
            "standoff": 15
           },
           "zerolinecolor": "white",
           "zerolinewidth": 2
          },
          "yaxis": {
           "automargin": true,
           "gridcolor": "white",
           "linecolor": "white",
           "ticks": "",
           "title": {
            "standoff": 15
           },
           "zerolinecolor": "white",
           "zerolinewidth": 2
          }
         }
        }
       }
      }
     },
     "metadata": {},
     "output_type": "display_data"
    }
   ],
   "source": [
    "import plotly.express as px\n",
    "\n",
    "px.scatter_3d(df.sort_values(by=\"frame_id\").loc[df.frame_id.between(9460, 9540)], x='x', y='y', z='frame_id')"
   ]
  },
  {
   "cell_type": "code",
   "execution_count": 32,
   "metadata": {},
   "outputs": [],
   "source": [
    "X = df[['x', 'y', 'z']]\n",
    "y = df['event_subtype']"
   ]
  },
  {
   "cell_type": "code",
   "execution_count": null,
   "metadata": {},
   "outputs": [],
   "source": [
    "(y.value_counts()/len(y)).plot(kind='bar')"
   ]
  },
  {
   "cell_type": "code",
   "execution_count": 34,
   "metadata": {},
   "outputs": [],
   "source": [
    "X_tensor = torch.tensor(X.values, dtype=torch.float32).unsqueeze(0)"
   ]
  },
  {
   "cell_type": "code",
   "execution_count": 35,
   "metadata": {},
   "outputs": [],
   "source": [
    "classes = y.unique()\n",
    "n_classes = len(classes)"
   ]
  },
  {
   "cell_type": "code",
   "execution_count": 37,
   "metadata": {},
   "outputs": [
    {
     "data": {
      "text/plain": [
       "8"
      ]
     },
     "execution_count": 37,
     "metadata": {},
     "output_type": "execute_result"
    }
   ],
   "source": [
    "n_classes"
   ]
  },
  {
   "cell_type": "code",
   "execution_count": 38,
   "metadata": {},
   "outputs": [],
   "source": [
    "ohe = OneHotEncoder()\n",
    "y_ohe = torch.tensor(ohe.fit_transform(y.values.reshape(-1, 1)).toarray()).unsqueeze(0)"
   ]
  },
  {
   "cell_type": "code",
   "execution_count": 47,
   "metadata": {},
   "outputs": [
    {
     "data": {
      "text/plain": [
       "torch.Size([1, 39660, 8])"
      ]
     },
     "execution_count": 47,
     "metadata": {},
     "output_type": "execute_result"
    }
   ],
   "source": [
    "y_ohe.shape"
   ]
  },
  {
   "cell_type": "code",
   "execution_count": 40,
   "metadata": {},
   "outputs": [],
   "source": [
    "class BiLSTM(nn.Module):\n",
    "\n",
    "    def __init__(self, input_dim:int, hidden_dim:int, batch_size:int, output_dim:int=11, num_layers:int=2):\n",
    "        super(BiLSTM, self).__init__()\n",
    "        self.input_dim = input_dim\n",
    "        self.hidden_dim = hidden_dim\n",
    "        self.batch_size = batch_size\n",
    "        self.num_layers = num_layers\n",
    "\n",
    "        #Define the initial linear hidden layer\n",
    "        self.init_linear = nn.Linear(self.input_dim, self.input_dim)\n",
    "\n",
    "        # Define the LSTM layer\n",
    "        self.lstm = nn.LSTM(self.input_dim, self.hidden_dim, self.num_layers, batch_first=True, bidirectional=True)\n",
    "\n",
    "        # Define the output layer\n",
    "        self.linear = nn.Linear(self.hidden_dim * 2, output_dim)\n",
    "\n",
    "    def init_hidden(self):\n",
    "        # This is what we'll initialise our hidden state as\n",
    "        return (torch.zeros(self.num_layers, self.batch_size, self.hidden_dim),\n",
    "                torch.zeros(self.num_layers, self.batch_size, self.hidden_dim))\n",
    "\n",
    "    def forward(self, input):\n",
    "        #Forward pass through initial hidden layer\n",
    "        linear_input = self.init_linear(input)\n",
    "\n",
    "        # Forward pass through LSTM layer\n",
    "        # shape of lstm_out: [batch_size, input_size ,hidden_dim]\n",
    "        # shape of self.hidden: (a, b), where a and b both\n",
    "        # have shape (batch_size, num_layers, hidden_dim).\n",
    "        lstm_out, self.hidden = self.lstm(linear_input)\n",
    "\n",
    "        # Can pass on the entirety of lstm_out to the next layer if it is a seq2seq prediction\n",
    "        y_pred = self.linear(lstm_out)\n",
    "        return y_pred"
   ]
  },
  {
   "cell_type": "code",
   "execution_count": 48,
   "metadata": {},
   "outputs": [],
   "source": [
    "bilstm = BiLSTM(3, 16, 16, n_classes)\n",
    "optimizer = optim.SGD(bilstm.parameters(), lr=0.001, momentum=0.9)\n",
    "criterion = nn.CrossEntropyLoss()"
   ]
  },
  {
   "cell_type": "code",
   "execution_count": 49,
   "metadata": {},
   "outputs": [
    {
     "data": {
      "text/plain": [
       "torch.Size([1, 39660, 8])"
      ]
     },
     "execution_count": 49,
     "metadata": {},
     "output_type": "execute_result"
    }
   ],
   "source": [
    "y_ohe.shape"
   ]
  },
  {
   "cell_type": "code",
   "execution_count": 46,
   "metadata": {},
   "outputs": [
    {
     "data": {
      "text/plain": [
       "torch.Size([1, 39660, 11])"
      ]
     },
     "execution_count": 46,
     "metadata": {},
     "output_type": "execute_result"
    }
   ],
   "source": [
    "out.shape"
   ]
  },
  {
   "cell_type": "code",
   "execution_count": 50,
   "metadata": {},
   "outputs": [
    {
     "name": "stdout",
     "output_type": "stream",
     "text": [
      "tensor(52509.7419, dtype=torch.float64, grad_fn=<DivBackward1>)\n",
      "tensor(52496.3743, dtype=torch.float64, grad_fn=<DivBackward1>)\n",
      "tensor(52495.2394, dtype=torch.float64, grad_fn=<DivBackward1>)\n",
      "tensor(52492.4718, dtype=torch.float64, grad_fn=<DivBackward1>)\n",
      "tensor(52491.6703, dtype=torch.float64, grad_fn=<DivBackward1>)\n",
      "tensor(52491.7796, dtype=torch.float64, grad_fn=<DivBackward1>)\n",
      "tensor(52489.6956, dtype=torch.float64, grad_fn=<DivBackward1>)\n",
      "tensor(52490.1283, dtype=torch.float64, grad_fn=<DivBackward1>)\n",
      "tensor(52490.2066, dtype=torch.float64, grad_fn=<DivBackward1>)\n",
      "tensor(52488.2787, dtype=torch.float64, grad_fn=<DivBackward1>)\n",
      "tensor(52488.5785, dtype=torch.float64, grad_fn=<DivBackward1>)\n",
      "tensor(52486.7140, dtype=torch.float64, grad_fn=<DivBackward1>)\n",
      "tensor(52486.9158, dtype=torch.float64, grad_fn=<DivBackward1>)\n",
      "tensor(52485.8334, dtype=torch.float64, grad_fn=<DivBackward1>)\n",
      "tensor(52484.6396, dtype=torch.float64, grad_fn=<DivBackward1>)\n",
      "tensor(52484.0284, dtype=torch.float64, grad_fn=<DivBackward1>)\n",
      "tensor(52482.5208, dtype=torch.float64, grad_fn=<DivBackward1>)\n",
      "tensor(52482.0236, dtype=torch.float64, grad_fn=<DivBackward1>)\n",
      "tensor(52480.4349, dtype=torch.float64, grad_fn=<DivBackward1>)\n",
      "tensor(52479.6459, dtype=torch.float64, grad_fn=<DivBackward1>)\n",
      "tensor(52477.8497, dtype=torch.float64, grad_fn=<DivBackward1>)\n",
      "tensor(52476.8856, dtype=torch.float64, grad_fn=<DivBackward1>)\n",
      "tensor(52474.9719, dtype=torch.float64, grad_fn=<DivBackward1>)\n",
      "tensor(52473.8085, dtype=torch.float64, grad_fn=<DivBackward1>)\n",
      "tensor(52471.8820, dtype=torch.float64, grad_fn=<DivBackward1>)\n",
      "tensor(52469.7706, dtype=torch.float64, grad_fn=<DivBackward1>)\n",
      "tensor(52468.1000, dtype=torch.float64, grad_fn=<DivBackward1>)\n",
      "tensor(52466.1444, dtype=torch.float64, grad_fn=<DivBackward1>)\n",
      "tensor(52463.7313, dtype=torch.float64, grad_fn=<DivBackward1>)\n",
      "tensor(52461.5543, dtype=torch.float64, grad_fn=<DivBackward1>)\n",
      "tensor(52459.4479, dtype=torch.float64, grad_fn=<DivBackward1>)\n",
      "tensor(52457.1273, dtype=torch.float64, grad_fn=<DivBackward1>)\n",
      "tensor(52454.5403, dtype=torch.float64, grad_fn=<DivBackward1>)\n",
      "tensor(52462.8375, dtype=torch.float64, grad_fn=<DivBackward1>)\n",
      "tensor(52454.9415, dtype=torch.float64, grad_fn=<DivBackward1>)\n",
      "tensor(52488.3541, dtype=torch.float64, grad_fn=<DivBackward1>)\n",
      "tensor(52795.5362, dtype=torch.float64, grad_fn=<DivBackward1>)\n",
      "tensor(52801.9733, dtype=torch.float64, grad_fn=<DivBackward1>)\n",
      "tensor(52534.2901, dtype=torch.float64, grad_fn=<DivBackward1>)\n",
      "tensor(52579.2275, dtype=torch.float64, grad_fn=<DivBackward1>)\n",
      "tensor(53885.9408, dtype=torch.float64, grad_fn=<DivBackward1>)\n",
      "tensor(56063.7741, dtype=torch.float64, grad_fn=<DivBackward1>)\n",
      "tensor(67444.3043, dtype=torch.float64, grad_fn=<DivBackward1>)\n",
      "tensor(54979.2547, dtype=torch.float64, grad_fn=<DivBackward1>)\n",
      "tensor(52736.3927, dtype=torch.float64, grad_fn=<DivBackward1>)\n",
      "tensor(52660.5237, dtype=torch.float64, grad_fn=<DivBackward1>)\n",
      "tensor(52601.1111, dtype=torch.float64, grad_fn=<DivBackward1>)\n",
      "tensor(52616.2420, dtype=torch.float64, grad_fn=<DivBackward1>)\n",
      "tensor(52559.3542, dtype=torch.float64, grad_fn=<DivBackward1>)\n"
     ]
    },
    {
     "ename": "KeyboardInterrupt",
     "evalue": "",
     "output_type": "error",
     "traceback": [
      "\u001b[0;31m---------------------------------------------------------------------------\u001b[0m",
      "\u001b[0;31mKeyboardInterrupt\u001b[0m                         Traceback (most recent call last)",
      "Cell \u001b[0;32mIn[50], line 6\u001b[0m\n\u001b[1;32m      4\u001b[0m optimizer\u001b[38;5;241m.\u001b[39mzero_grad()\n\u001b[1;32m      5\u001b[0m loss \u001b[38;5;241m=\u001b[39m criterion(out, y_ohe[:,:])\n\u001b[0;32m----> 6\u001b[0m \u001b[43mloss\u001b[49m\u001b[38;5;241;43m.\u001b[39;49m\u001b[43mbackward\u001b[49m\u001b[43m(\u001b[49m\u001b[43m)\u001b[49m\n\u001b[1;32m      7\u001b[0m \u001b[38;5;28mprint\u001b[39m(loss)\n\u001b[1;32m      8\u001b[0m optimizer\u001b[38;5;241m.\u001b[39mstep()\n",
      "File \u001b[0;32m~/.local/lib/python3.11/site-packages/torch/_tensor.py:492\u001b[0m, in \u001b[0;36mTensor.backward\u001b[0;34m(self, gradient, retain_graph, create_graph, inputs)\u001b[0m\n\u001b[1;32m    482\u001b[0m \u001b[38;5;28;01mif\u001b[39;00m has_torch_function_unary(\u001b[38;5;28mself\u001b[39m):\n\u001b[1;32m    483\u001b[0m     \u001b[38;5;28;01mreturn\u001b[39;00m handle_torch_function(\n\u001b[1;32m    484\u001b[0m         Tensor\u001b[38;5;241m.\u001b[39mbackward,\n\u001b[1;32m    485\u001b[0m         (\u001b[38;5;28mself\u001b[39m,),\n\u001b[0;32m   (...)\u001b[0m\n\u001b[1;32m    490\u001b[0m         inputs\u001b[38;5;241m=\u001b[39minputs,\n\u001b[1;32m    491\u001b[0m     )\n\u001b[0;32m--> 492\u001b[0m \u001b[43mtorch\u001b[49m\u001b[38;5;241;43m.\u001b[39;49m\u001b[43mautograd\u001b[49m\u001b[38;5;241;43m.\u001b[39;49m\u001b[43mbackward\u001b[49m\u001b[43m(\u001b[49m\n\u001b[1;32m    493\u001b[0m \u001b[43m    \u001b[49m\u001b[38;5;28;43mself\u001b[39;49m\u001b[43m,\u001b[49m\u001b[43m \u001b[49m\u001b[43mgradient\u001b[49m\u001b[43m,\u001b[49m\u001b[43m \u001b[49m\u001b[43mretain_graph\u001b[49m\u001b[43m,\u001b[49m\u001b[43m \u001b[49m\u001b[43mcreate_graph\u001b[49m\u001b[43m,\u001b[49m\u001b[43m \u001b[49m\u001b[43minputs\u001b[49m\u001b[38;5;241;43m=\u001b[39;49m\u001b[43minputs\u001b[49m\n\u001b[1;32m    494\u001b[0m \u001b[43m\u001b[49m\u001b[43m)\u001b[49m\n",
      "File \u001b[0;32m~/.local/lib/python3.11/site-packages/torch/autograd/__init__.py:251\u001b[0m, in \u001b[0;36mbackward\u001b[0;34m(tensors, grad_tensors, retain_graph, create_graph, grad_variables, inputs)\u001b[0m\n\u001b[1;32m    246\u001b[0m     retain_graph \u001b[38;5;241m=\u001b[39m create_graph\n\u001b[1;32m    248\u001b[0m \u001b[38;5;66;03m# The reason we repeat the same comment below is that\u001b[39;00m\n\u001b[1;32m    249\u001b[0m \u001b[38;5;66;03m# some Python versions print out the first line of a multi-line function\u001b[39;00m\n\u001b[1;32m    250\u001b[0m \u001b[38;5;66;03m# calls in the traceback and some print out the last line\u001b[39;00m\n\u001b[0;32m--> 251\u001b[0m \u001b[43mVariable\u001b[49m\u001b[38;5;241;43m.\u001b[39;49m\u001b[43m_execution_engine\u001b[49m\u001b[38;5;241;43m.\u001b[39;49m\u001b[43mrun_backward\u001b[49m\u001b[43m(\u001b[49m\u001b[43m  \u001b[49m\u001b[38;5;66;43;03m# Calls into the C++ engine to run the backward pass\u001b[39;49;00m\n\u001b[1;32m    252\u001b[0m \u001b[43m    \u001b[49m\u001b[43mtensors\u001b[49m\u001b[43m,\u001b[49m\n\u001b[1;32m    253\u001b[0m \u001b[43m    \u001b[49m\u001b[43mgrad_tensors_\u001b[49m\u001b[43m,\u001b[49m\n\u001b[1;32m    254\u001b[0m \u001b[43m    \u001b[49m\u001b[43mretain_graph\u001b[49m\u001b[43m,\u001b[49m\n\u001b[1;32m    255\u001b[0m \u001b[43m    \u001b[49m\u001b[43mcreate_graph\u001b[49m\u001b[43m,\u001b[49m\n\u001b[1;32m    256\u001b[0m \u001b[43m    \u001b[49m\u001b[43minputs\u001b[49m\u001b[43m,\u001b[49m\n\u001b[1;32m    257\u001b[0m \u001b[43m    \u001b[49m\u001b[43mallow_unreachable\u001b[49m\u001b[38;5;241;43m=\u001b[39;49m\u001b[38;5;28;43;01mTrue\u001b[39;49;00m\u001b[43m,\u001b[49m\n\u001b[1;32m    258\u001b[0m \u001b[43m    \u001b[49m\u001b[43maccumulate_grad\u001b[49m\u001b[38;5;241;43m=\u001b[39;49m\u001b[38;5;28;43;01mTrue\u001b[39;49;00m\u001b[43m,\u001b[49m\n\u001b[1;32m    259\u001b[0m \u001b[43m\u001b[49m\u001b[43m)\u001b[49m\n",
      "\u001b[0;31mKeyboardInterrupt\u001b[0m: "
     ]
    }
   ],
   "source": [
    "for i in range(100):\n",
    "    \n",
    "    out = bilstm(X_tensor[:,:])\n",
    "    optimizer.zero_grad()\n",
    "    loss = criterion(out, y_ohe[:,:])\n",
    "    loss.backward()\n",
    "    print(loss)\n",
    "    optimizer.step()\n",
    "\n",
    "    # accuracy\n",
    "    _, predicted = torch.max(out, 1)"
   ]
  },
  {
   "cell_type": "code",
   "execution_count": 29,
   "metadata": {},
   "outputs": [
    {
     "data": {
      "text/plain": [
       "torch.Size([1, 43468, 11])"
      ]
     },
     "execution_count": 29,
     "metadata": {},
     "output_type": "execute_result"
    }
   ],
   "source": [
    "out.shape"
   ]
  },
  {
   "cell_type": "code",
   "execution_count": 41,
   "metadata": {},
   "outputs": [],
   "source": [
    "y_hat = out.argmax(dim=2)"
   ]
  },
  {
   "cell_type": "code",
   "execution_count": 42,
   "metadata": {},
   "outputs": [],
   "source": [
    "y_idx = y_ohe.argmax(dim=2)"
   ]
  },
  {
   "cell_type": "code",
   "execution_count": 53,
   "metadata": {},
   "outputs": [
    {
     "data": {
      "text/plain": [
       "tensor(0.0136)"
      ]
     },
     "execution_count": 53,
     "metadata": {},
     "output_type": "execute_result"
    }
   ],
   "source": [
    "(y_hat == y_idx).sum()/y_hat.shape[1]"
   ]
  }
 ],
 "metadata": {
  "kernelspec": {
   "display_name": "Python 3",
   "language": "python",
   "name": "python3"
  },
  "language_info": {
   "codemirror_mode": {
    "name": "ipython",
    "version": 3
   },
   "file_extension": ".py",
   "mimetype": "text/x-python",
   "name": "python",
   "nbconvert_exporter": "python",
   "pygments_lexer": "ipython3",
   "version": "3.11.4"
  }
 },
 "nbformat": 4,
 "nbformat_minor": 2
}
